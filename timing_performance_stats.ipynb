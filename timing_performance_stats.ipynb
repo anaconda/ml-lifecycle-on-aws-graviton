{
 "cells": [
  {
   "cell_type": "code",
   "execution_count": 4,
   "metadata": {},
   "outputs": [],
   "source": [
    "import os\n",
    "from pathlib import Path\n",
    "\n",
    "from joblib import load\n",
    "from sklearn.datasets._base import Bunch"
   ]
  },
  {
   "cell_type": "code",
   "execution_count": 2,
   "metadata": {},
   "outputs": [],
   "source": [
    "MODEL_FOLDER = Path(os.path.abspath(os.path.curdir)) / \"MODELS\""
   ]
  },
  {
   "cell_type": "code",
   "execution_count": 3,
   "metadata": {},
   "outputs": [],
   "source": [
    "# Gather all the model persistence files (.joblib) and sort them alphabetically\n",
    "model_files_names = sorted(filter(lambda f: f.endswith(\".joblib\"), os.listdir(MODEL_FOLDER)))\n",
    "\n",
    "NEAR_MISS_KEY = \"under_sampling_near_miss\"\n",
    "SMOTE_KEY = \"over_sampling_smote\"\n",
    "\n",
    "model_files_per_sampler = {\n",
    "    NEAR_MISS_KEY: [],\n",
    "    SMOTE_KEY: [],\n",
    "    }\n",
    "\n",
    "for model_file_name in model_files_names:\n",
    "    if NEAR_MISS_KEY in model_file_name:\n",
    "        model_files_per_sampler[NEAR_MISS_KEY].append(MODEL_FOLDER / model_file_name)\n",
    "    elif SMOTE_KEY in model_file_name:\n",
    "        model_files_per_sampler[SMOTE_KEY].append(MODEL_FOLDER / model_file_name)\n",
    "    else:\n",
    "        continue  # discard the file"
   ]
  },
  {
   "cell_type": "code",
   "execution_count": 20,
   "metadata": {},
   "outputs": [
    {
     "name": "stdout",
     "output_type": "stream",
     "text": [
      "FIT Time (Avg += Std) for under_sampling_near_miss\n",
      "\tDecisionTreeClassifier: 0.10195690155029297 +- 0.00399394415019033\n",
      "\tKNeighborsClassifier: 0.09682031154632569 +- 0.010760792047152492\n",
      "\tRandomForestClassifier: 0.13882603645324706 +- 0.0020385199336323636\n",
      "FIT Time (Avg += Std) for over_sampling_smote\n",
      "\tDecisionTreeClassifier: 12.965722446441651 +- 2.427392445103749\n"
     ]
    }
   ],
   "source": [
    "for sampler in model_files_per_sampler:\n",
    "    print(f\"FIT Time (Avg += Std) for {sampler}\")\n",
    "    for model_file in model_files_per_sampler[sampler]:\n",
    "        gs_model = load(model_file)\n",
    "        cv_results = Bunch(**gs_model.cv_results_)\n",
    "        avg_time = cv_results.mean_fit_time[gs_model.best_index_]\n",
    "        std_time = cv_results.std_fit_time[gs_model.best_index_]\n",
    "        model_cls_name = str(gs_model.best_estimator_.named_steps[\"model\"].__class__)\n",
    "        model_name = model_cls_name.split(\".\")[-1].split(\"'\")[0]  # very very bodged but it works!\n",
    "        print(f\"\\t{model_name}: {avg_time} +- {std_time}\")"
   ]
  },
  {
   "cell_type": "code",
   "execution_count": null,
   "metadata": {},
   "outputs": [],
   "source": []
  }
 ],
 "metadata": {
  "kernelspec": {
   "display_name": "base",
   "language": "python",
   "name": "python3"
  },
  "language_info": {
   "codemirror_mode": {
    "name": "ipython",
    "version": 3
   },
   "file_extension": ".py",
   "mimetype": "text/x-python",
   "name": "python",
   "nbconvert_exporter": "python",
   "pygments_lexer": "ipython3",
   "version": "3.10.11"
  },
  "orig_nbformat": 4
 },
 "nbformat": 4,
 "nbformat_minor": 2
}
