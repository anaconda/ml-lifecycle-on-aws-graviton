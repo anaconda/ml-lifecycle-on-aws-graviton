{
 "cells": [
  {
   "attachments": {},
   "cell_type": "markdown",
   "metadata": {},
   "source": [
    "# Fraud Detection on Card Transaction Data"
   ]
  },
  {
   "attachments": {},
   "cell_type": "markdown",
   "metadata": {},
   "source": [
    "Machine Learning Experimental Setup"
   ]
  },
  {
   "attachments": {},
   "cell_type": "markdown",
   "metadata": {},
   "source": [
    "### Loading Data"
   ]
  },
  {
   "cell_type": "code",
   "execution_count": 1,
   "metadata": {},
   "outputs": [],
   "source": [
    "import pandas as pd"
   ]
  },
  {
   "cell_type": "code",
   "execution_count": 2,
   "metadata": {},
   "outputs": [],
   "source": [
    "filename = \"creditcard.csv\"\n",
    "df = pd.read_csv(filename)"
   ]
  },
  {
   "cell_type": "code",
   "execution_count": 3,
   "metadata": {},
   "outputs": [
    {
     "data": {
      "text/html": [
       "<div>\n",
       "<style scoped>\n",
       "    .dataframe tbody tr th:only-of-type {\n",
       "        vertical-align: middle;\n",
       "    }\n",
       "\n",
       "    .dataframe tbody tr th {\n",
       "        vertical-align: top;\n",
       "    }\n",
       "\n",
       "    .dataframe thead th {\n",
       "        text-align: right;\n",
       "    }\n",
       "</style>\n",
       "<table border=\"1\" class=\"dataframe\">\n",
       "  <thead>\n",
       "    <tr style=\"text-align: right;\">\n",
       "      <th></th>\n",
       "      <th>Time</th>\n",
       "      <th>V1</th>\n",
       "      <th>V2</th>\n",
       "      <th>V3</th>\n",
       "      <th>V4</th>\n",
       "      <th>V5</th>\n",
       "      <th>V6</th>\n",
       "      <th>V7</th>\n",
       "      <th>V8</th>\n",
       "      <th>V9</th>\n",
       "      <th>...</th>\n",
       "      <th>V21</th>\n",
       "      <th>V22</th>\n",
       "      <th>V23</th>\n",
       "      <th>V24</th>\n",
       "      <th>V25</th>\n",
       "      <th>V26</th>\n",
       "      <th>V27</th>\n",
       "      <th>V28</th>\n",
       "      <th>Amount</th>\n",
       "      <th>Class</th>\n",
       "    </tr>\n",
       "  </thead>\n",
       "  <tbody>\n",
       "    <tr>\n",
       "      <th>0</th>\n",
       "      <td>0.0</td>\n",
       "      <td>-1.359807</td>\n",
       "      <td>-0.072781</td>\n",
       "      <td>2.536347</td>\n",
       "      <td>1.378155</td>\n",
       "      <td>-0.338321</td>\n",
       "      <td>0.462388</td>\n",
       "      <td>0.239599</td>\n",
       "      <td>0.098698</td>\n",
       "      <td>0.363787</td>\n",
       "      <td>...</td>\n",
       "      <td>-0.018307</td>\n",
       "      <td>0.277838</td>\n",
       "      <td>-0.110474</td>\n",
       "      <td>0.066928</td>\n",
       "      <td>0.128539</td>\n",
       "      <td>-0.189115</td>\n",
       "      <td>0.133558</td>\n",
       "      <td>-0.021053</td>\n",
       "      <td>149.62</td>\n",
       "      <td>0</td>\n",
       "    </tr>\n",
       "    <tr>\n",
       "      <th>1</th>\n",
       "      <td>0.0</td>\n",
       "      <td>1.191857</td>\n",
       "      <td>0.266151</td>\n",
       "      <td>0.166480</td>\n",
       "      <td>0.448154</td>\n",
       "      <td>0.060018</td>\n",
       "      <td>-0.082361</td>\n",
       "      <td>-0.078803</td>\n",
       "      <td>0.085102</td>\n",
       "      <td>-0.255425</td>\n",
       "      <td>...</td>\n",
       "      <td>-0.225775</td>\n",
       "      <td>-0.638672</td>\n",
       "      <td>0.101288</td>\n",
       "      <td>-0.339846</td>\n",
       "      <td>0.167170</td>\n",
       "      <td>0.125895</td>\n",
       "      <td>-0.008983</td>\n",
       "      <td>0.014724</td>\n",
       "      <td>2.69</td>\n",
       "      <td>0</td>\n",
       "    </tr>\n",
       "    <tr>\n",
       "      <th>2</th>\n",
       "      <td>1.0</td>\n",
       "      <td>-1.358354</td>\n",
       "      <td>-1.340163</td>\n",
       "      <td>1.773209</td>\n",
       "      <td>0.379780</td>\n",
       "      <td>-0.503198</td>\n",
       "      <td>1.800499</td>\n",
       "      <td>0.791461</td>\n",
       "      <td>0.247676</td>\n",
       "      <td>-1.514654</td>\n",
       "      <td>...</td>\n",
       "      <td>0.247998</td>\n",
       "      <td>0.771679</td>\n",
       "      <td>0.909412</td>\n",
       "      <td>-0.689281</td>\n",
       "      <td>-0.327642</td>\n",
       "      <td>-0.139097</td>\n",
       "      <td>-0.055353</td>\n",
       "      <td>-0.059752</td>\n",
       "      <td>378.66</td>\n",
       "      <td>0</td>\n",
       "    </tr>\n",
       "    <tr>\n",
       "      <th>3</th>\n",
       "      <td>1.0</td>\n",
       "      <td>-0.966272</td>\n",
       "      <td>-0.185226</td>\n",
       "      <td>1.792993</td>\n",
       "      <td>-0.863291</td>\n",
       "      <td>-0.010309</td>\n",
       "      <td>1.247203</td>\n",
       "      <td>0.237609</td>\n",
       "      <td>0.377436</td>\n",
       "      <td>-1.387024</td>\n",
       "      <td>...</td>\n",
       "      <td>-0.108300</td>\n",
       "      <td>0.005274</td>\n",
       "      <td>-0.190321</td>\n",
       "      <td>-1.175575</td>\n",
       "      <td>0.647376</td>\n",
       "      <td>-0.221929</td>\n",
       "      <td>0.062723</td>\n",
       "      <td>0.061458</td>\n",
       "      <td>123.50</td>\n",
       "      <td>0</td>\n",
       "    </tr>\n",
       "    <tr>\n",
       "      <th>4</th>\n",
       "      <td>2.0</td>\n",
       "      <td>-1.158233</td>\n",
       "      <td>0.877737</td>\n",
       "      <td>1.548718</td>\n",
       "      <td>0.403034</td>\n",
       "      <td>-0.407193</td>\n",
       "      <td>0.095921</td>\n",
       "      <td>0.592941</td>\n",
       "      <td>-0.270533</td>\n",
       "      <td>0.817739</td>\n",
       "      <td>...</td>\n",
       "      <td>-0.009431</td>\n",
       "      <td>0.798278</td>\n",
       "      <td>-0.137458</td>\n",
       "      <td>0.141267</td>\n",
       "      <td>-0.206010</td>\n",
       "      <td>0.502292</td>\n",
       "      <td>0.219422</td>\n",
       "      <td>0.215153</td>\n",
       "      <td>69.99</td>\n",
       "      <td>0</td>\n",
       "    </tr>\n",
       "  </tbody>\n",
       "</table>\n",
       "<p>5 rows × 31 columns</p>\n",
       "</div>"
      ],
      "text/plain": [
       "   Time        V1        V2        V3        V4        V5        V6        V7  \\\n",
       "0   0.0 -1.359807 -0.072781  2.536347  1.378155 -0.338321  0.462388  0.239599   \n",
       "1   0.0  1.191857  0.266151  0.166480  0.448154  0.060018 -0.082361 -0.078803   \n",
       "2   1.0 -1.358354 -1.340163  1.773209  0.379780 -0.503198  1.800499  0.791461   \n",
       "3   1.0 -0.966272 -0.185226  1.792993 -0.863291 -0.010309  1.247203  0.237609   \n",
       "4   2.0 -1.158233  0.877737  1.548718  0.403034 -0.407193  0.095921  0.592941   \n",
       "\n",
       "         V8        V9  ...       V21       V22       V23       V24       V25  \\\n",
       "0  0.098698  0.363787  ... -0.018307  0.277838 -0.110474  0.066928  0.128539   \n",
       "1  0.085102 -0.255425  ... -0.225775 -0.638672  0.101288 -0.339846  0.167170   \n",
       "2  0.247676 -1.514654  ...  0.247998  0.771679  0.909412 -0.689281 -0.327642   \n",
       "3  0.377436 -1.387024  ... -0.108300  0.005274 -0.190321 -1.175575  0.647376   \n",
       "4 -0.270533  0.817739  ... -0.009431  0.798278 -0.137458  0.141267 -0.206010   \n",
       "\n",
       "        V26       V27       V28  Amount  Class  \n",
       "0 -0.189115  0.133558 -0.021053  149.62      0  \n",
       "1  0.125895 -0.008983  0.014724    2.69      0  \n",
       "2 -0.139097 -0.055353 -0.059752  378.66      0  \n",
       "3 -0.221929  0.062723  0.061458  123.50      0  \n",
       "4  0.502292  0.219422  0.215153   69.99      0  \n",
       "\n",
       "[5 rows x 31 columns]"
      ]
     },
     "execution_count": 3,
     "metadata": {},
     "output_type": "execute_result"
    }
   ],
   "source": [
    "df.head()"
   ]
  },
  {
   "cell_type": "code",
   "execution_count": 4,
   "metadata": {},
   "outputs": [
    {
     "data": {
      "text/plain": [
       "0    284315\n",
       "1       492\n",
       "Name: Class, dtype: int64"
      ]
     },
     "execution_count": 4,
     "metadata": {},
     "output_type": "execute_result"
    }
   ],
   "source": [
    "df.Class.value_counts()"
   ]
  },
  {
   "cell_type": "code",
   "execution_count": 5,
   "metadata": {},
   "outputs": [],
   "source": [
    "X, y = df[df.columns[df.columns != \"Class\"]], df[\"Class\"]"
   ]
  },
  {
   "cell_type": "code",
   "execution_count": 6,
   "metadata": {},
   "outputs": [
    {
     "data": {
      "text/plain": [
       "((284807, 30), (284807,))"
      ]
     },
     "execution_count": 6,
     "metadata": {},
     "output_type": "execute_result"
    }
   ],
   "source": [
    "X.shape, y.shape"
   ]
  },
  {
   "attachments": {},
   "cell_type": "markdown",
   "metadata": {},
   "source": [
    "## Experimental Pipeline"
   ]
  },
  {
   "cell_type": "code",
   "execution_count": 7,
   "metadata": {},
   "outputs": [],
   "source": [
    "# Reproducibility settings\n",
    "import numpy as np\n",
    "from sklearn.utils import check_random_state\n",
    "\n",
    "SEED = 12345\n",
    "\n",
    "# The NumPy Generator will be used throughout the whole experiment\n",
    "# rng = np.random.default_rng(SEED)\n",
    "np.random.seed(SEED)\n",
    "rng = check_random_state(SEED)"
   ]
  },
  {
   "cell_type": "code",
   "execution_count": 8,
   "metadata": {},
   "outputs": [],
   "source": [
    "import os\n",
    "os.environ[\"PYTHONWARNINGS\"] = \"ignore\"\n",
    "import warnings\n",
    "warnings.filterwarnings('ignore')\n",
    "from pathlib import Path\n",
    "from datetime import datetime\n",
    "\n",
    "# Preprocessing\n",
    "from sklearn.preprocessing import RobustScaler\n",
    "from sklearn.compose import ColumnTransformer\n",
    "\n",
    "# Imbalanced Learning\n",
    "from imblearn.over_sampling import SMOTE\n",
    "from imblearn.under_sampling import NearMiss\n",
    "\n",
    "# Model Selection and Metrics\n",
    "from sklearn.model_selection import RepeatedStratifiedKFold, train_test_split\n",
    "from sklearn.model_selection import GridSearchCV\n",
    "from sklearn.metrics import f1_score\n",
    "\n",
    "# ML Models\n",
    "from sklearn.tree import DecisionTreeClassifier\n",
    "from sklearn.ensemble import RandomForestClassifier\n",
    "\n",
    "# Pipeline \n",
    "# (imblearn Pipeline because we need to embed a sampler)\n",
    "from imblearn.pipeline import Pipeline\n",
    "\n",
    "# Model Persistence\n",
    "from joblib import dump"
   ]
  },
  {
   "attachments": {},
   "cell_type": "markdown",
   "metadata": {},
   "source": [
    "**Data Splitting**"
   ]
  },
  {
   "cell_type": "code",
   "execution_count": 9,
   "metadata": {},
   "outputs": [],
   "source": [
    "X_train, X_test, y_train, y_test = train_test_split(X, y, stratify=y, test_size=0.2, \n",
    "                                                    random_state=rng)"
   ]
  },
  {
   "attachments": {},
   "cell_type": "markdown",
   "metadata": {},
   "source": [
    "**PreProcessing**"
   ]
  },
  {
   "cell_type": "code",
   "execution_count": 10,
   "metadata": {},
   "outputs": [],
   "source": [
    "# (Selected) Feature Scaling\n",
    "preprocessing = ColumnTransformer([(\"scaler\", RobustScaler(), [\"Time\", \"Amount\"]),],\n",
    "                                  remainder=\"passthrough\")"
   ]
  },
  {
   "attachments": {},
   "cell_type": "markdown",
   "metadata": {},
   "source": [
    "### Machine Learning Models\n",
    "\n",
    "Setting up Machine Learning models and their corresponding param grid (for Hyper parameter tuning)"
   ]
  },
  {
   "cell_type": "code",
   "execution_count": 11,
   "metadata": {},
   "outputs": [],
   "source": [
    "# Decision Tree\n",
    "dt = DecisionTreeClassifier(random_state=rng)\n",
    "tree_models_params = {\n",
    "    \"model__max_depth\": [None, 2, 3, 6],\n",
    "    \"model__min_samples_leaf\": [2, 5, 6],\n",
    "    \"model__criterion\": [\"gini\", \"entropy\"]\n",
    "}\n",
    "\n",
    "dt_params = tree_models_params"
   ]
  },
  {
   "cell_type": "code",
   "execution_count": 12,
   "metadata": {},
   "outputs": [],
   "source": [
    "# Random Forest\n",
    "rf = RandomForestClassifier(random_state=rng, n_jobs=-1)\n",
    "rf_params = {\n",
    "    \"model__n_estimators\": [50,],\n",
    "    \"model__max_features\": [\"log2\", \"sqrt\"],\n",
    "    }\n",
    "rf_params_full = tree_models_params | tree_models_params"
   ]
  },
  {
   "attachments": {},
   "cell_type": "markdown",
   "metadata": {},
   "source": [
    "(CV) Training and Evaluation Utility Functions"
   ]
  },
  {
   "cell_type": "code",
   "execution_count": 13,
   "metadata": {},
   "outputs": [],
   "source": [
    "# Inspired from https://stackoverflow.com/questions/54868698/what-type-is-a-sklearn-model\n",
    "\n",
    "from typing import Protocol, Any\n",
    "from numpy.typing import ArrayLike\n",
    "\n",
    "class Estimator(Protocol):\n",
    "    def fit(self, X, y, sample_weight=None): ...\n",
    "    def predict(self, X): ...\n",
    "    def score(self, X, y, sample_weight=None): ...\n",
    "    def set_params(self, **params): ...\n",
    "\n",
    "ModelInfo = tuple[str, Estimator, dict[str, list[Any]]]\n",
    "PipelineSteps = list[tuple[str, Estimator]]\n",
    "Params = dict[str, Any]\n",
    "Partition = tuple[ArrayLike, ArrayLike]"
   ]
  },
  {
   "cell_type": "code",
   "execution_count": 14,
   "metadata": {},
   "outputs": [],
   "source": [
    "def train(model_info: ModelInfo, preprocessing_steps: PipelineSteps,\n",
    "          X_train: ArrayLike, y_train: ArrayLike, *,\n",
    "          preprocessing_params: Params = None, \n",
    "          rng: np.random.RandomState = None,\n",
    "          cv_n_reps: int = 10, cv_n_splits: int = 5,\n",
    "          verbose: bool = True) -> Estimator:\n",
    "    \"\"\"Train a given model (with Hyper Parameter Tuning) within a Repeated Stratified 10x5CV\"\"\"\n",
    "\n",
    "    model_name, model, model_params = model_info\n",
    "    pipeline = Pipeline(preprocessing_steps + [(\"model\", model)])\n",
    "\n",
    "    if preprocessing_params is not None:\n",
    "        pipeline_params = preprocessing_params | model_params\n",
    "    else:\n",
    "        pipeline_params = model_params\n",
    "\n",
    "    print(f\"Training {model_name}\")\n",
    "    if verbose:\n",
    "        print(f\"Params: {pipeline_params}\")\n",
    "        print(f\"Pipeline: {pipeline}\")\n",
    "\n",
    "    gs = GridSearchCV(estimator=pipeline, param_grid=pipeline_params, n_jobs=-1,\n",
    "                      scoring=\"f1\", cv=RepeatedStratifiedKFold(n_repeats=cv_n_reps,\n",
    "                                                               n_splits=cv_n_splits, \n",
    "                                                               random_state=rng))\n",
    "    gs.fit(X_train, y_train)\n",
    "    if verbose:\n",
    "        print(\"Best Params: \", gs.best_params_)\n",
    "        print(\"Best CV Score (F1)\", gs.best_score_)\n",
    "\n",
    "    return gs\n",
    "\n",
    "\n",
    "def evaluate(model_name: str, model: Estimator, X_test: ArrayLike , y_test: ArrayLike) -> float:\n",
    "    print(f\"Evaluate {model_name}\")\n",
    "    y_pred = model.predict(X_test)\n",
    "    return f1_score(y_test, y_pred)\n"
   ]
  },
  {
   "cell_type": "code",
   "execution_count": 15,
   "metadata": {},
   "outputs": [],
   "source": [
    "MODEL_FOLDER = Path(os.path.abspath(os.path.curdir)) / \"models\"\n",
    "os.makedirs(MODEL_FOLDER, exist_ok=True)\n",
    "\n",
    "def run_experiment(name: str, model_configs: list[ModelInfo],\n",
    "                   data: Partition, labels: Partition,\n",
    "                   preprocessing_steps: PipelineSteps,\n",
    "                   *,\n",
    "                   cv_n_reps: int = 10, cv_n_splits: int = 5,\n",
    "                   preproc_hyper_params: Params = None,\n",
    "                   rng: np.random.RandomState = None,\n",
    "                   ):\n",
    "    \"\"\"\n",
    "    Run the full experiment on selected models (and Params),\n",
    "    calling train and evaluate, in turn.\n",
    "    \"\"\"\n",
    "    X_train, X_test = data\n",
    "    y_train, y_test = labels\n",
    "    exp_label = name.lower().strip().replace(\" \", \"_\")\n",
    "\n",
    "    for model_info in model_configs:\n",
    "        start = datetime.now()\n",
    "        gs_model = train(model_info=model_info,\n",
    "                        preprocessing_steps=preprocessing_steps,\n",
    "                        preprocessing_params=preproc_hyper_params,\n",
    "                        X_train=X_train, y_train=y_train,\n",
    "                        cv_n_reps=cv_n_reps, cv_n_splits=cv_n_splits,\n",
    "                        rng=rng, verbose=True)\n",
    "        elapsed = datetime.now() - start\n",
    "        print(f\"Elapsed Time to run {cv_n_reps}x{cv_n_splits}CV: {elapsed}\")\n",
    "        best_model = gs_model.best_estimator_\n",
    "        model_name, *_ = model_info\n",
    "        print(evaluate(model_name=model_name, model=best_model,\n",
    "                    X_test=X_test, y_test=y_test))\n",
    "        model_filename = f\"gs_{model_name.lower().replace(' ', '_')}_{exp_label}.joblib\"\n",
    "        model_filepath = MODEL_FOLDER / model_filename\n",
    "        dump(gs_model, model_filepath)\n",
    "        print(\"\")  # Empty line, mostly for clean report"
   ]
  },
  {
   "attachments": {},
   "cell_type": "markdown",
   "metadata": {},
   "source": [
    "#### 1. Near-Miss (Under) Sampling Strategy"
   ]
  },
  {
   "cell_type": "code",
   "execution_count": 16,
   "metadata": {},
   "outputs": [],
   "source": [
    "nm_run_config = [\n",
    "        (\"Decision Tree\", dt, dt_params),\n",
    "        (\"Random Forest\", rf, rf_params_full),\n",
    "    ]"
   ]
  },
  {
   "cell_type": "code",
   "execution_count": 17,
   "metadata": {},
   "outputs": [],
   "source": [
    "# Under Sampling Strategy\n",
    "nm = NearMiss(sampling_strategy=\"majority\", version=3)\n",
    "# NearMiss Param Grid\n",
    "nm_params = {\"sampling__n_neighbors_ver3\" : [4, 5]}\n",
    "\n",
    "steps_under_sampling = [(\"preprocess\", preprocessing), (\"sampling\", nm)]"
   ]
  },
  {
   "cell_type": "code",
   "execution_count": 18,
   "metadata": {},
   "outputs": [
    {
     "name": "stdout",
     "output_type": "stream",
     "text": [
      "Training Decision Tree\n",
      "Params: {'sampling__n_neighbors_ver3': [4, 5], 'model__max_depth': [None, 2, 3, 6], 'model__min_samples_leaf': [2, 5, 6], 'model__criterion': ['gini', 'entropy']}\n",
      "Pipeline: Pipeline(steps=[('preprocess',\n",
      "                 ColumnTransformer(remainder='passthrough',\n",
      "                                   transformers=[('scaler', RobustScaler(),\n",
      "                                                  ['Time', 'Amount'])])),\n",
      "                ('sampling', NearMiss(sampling_strategy='majority', version=3)),\n",
      "                ('model',\n",
      "                 DecisionTreeClassifier(random_state=RandomState(MT19937) at 0x11F796940))])\n",
      "Best Params:  {'model__criterion': 'entropy', 'model__max_depth': 2, 'model__min_samples_leaf': 2, 'sampling__n_neighbors_ver3': 4}\n",
      "Best CV Score (F1) 0.718147787448082\n",
      "Elapsed Time to run 10x5CV: 0:01:46.743438\n",
      "Evaluate Decision Tree\n",
      "0.7459459459459459\n",
      "\n",
      "Training Random Forest\n",
      "Params: {'sampling__n_neighbors_ver3': [4, 5], 'model__max_depth': [None, 2, 3, 6], 'model__min_samples_leaf': [2, 5, 6], 'model__criterion': ['gini', 'entropy']}\n",
      "Pipeline: Pipeline(steps=[('preprocess',\n",
      "                 ColumnTransformer(remainder='passthrough',\n",
      "                                   transformers=[('scaler', RobustScaler(),\n",
      "                                                  ['Time', 'Amount'])])),\n",
      "                ('sampling', NearMiss(sampling_strategy='majority', version=3)),\n",
      "                ('model',\n",
      "                 RandomForestClassifier(n_jobs=-1,\n",
      "                                        random_state=RandomState(MT19937) at 0x11F796940))])\n",
      "Best Params:  {'model__criterion': 'gini', 'model__max_depth': 3, 'model__min_samples_leaf': 6, 'sampling__n_neighbors_ver3': 5}\n",
      "Best CV Score (F1) 0.8017390563289016\n",
      "Elapsed Time to run 10x5CV: 0:03:22.104858\n",
      "Evaluate Random Forest\n",
      "0.7578947368421053\n",
      "\n"
     ]
    }
   ],
   "source": [
    "run_experiment(name=\"Under Sampling Near Miss\",\n",
    "               model_configs=nm_run_config, data=(X_train, X_test),\n",
    "               labels=(y_train, y_test),\n",
    "               preprocessing_steps=steps_under_sampling,\n",
    "               preproc_hyper_params=nm_params,\n",
    "               rng=rng)"
   ]
  },
  {
   "attachments": {},
   "cell_type": "markdown",
   "metadata": {},
   "source": [
    "---"
   ]
  },
  {
   "attachments": {},
   "cell_type": "markdown",
   "metadata": {},
   "source": [
    "#### 2. SMOTE (Over) Sampling Strategy"
   ]
  },
  {
   "cell_type": "code",
   "execution_count": 19,
   "metadata": {},
   "outputs": [],
   "source": [
    "smote_run_config = [\n",
    "        (\"Decision Tree\", dt, dt_params),\n",
    "        (\"Random Forest\", rf, rf_params),  # only RF specific params tuned\n",
    "    ]"
   ]
  },
  {
   "cell_type": "code",
   "execution_count": 20,
   "metadata": {},
   "outputs": [],
   "source": [
    "# Over Sampling Strategies\n",
    "smote = SMOTE(sampling_strategy=\"minority\", random_state=rng)\n",
    "\n",
    "steps_over_sampling = [(\"preprocess\", preprocessing), (\"sampling\", smote)]"
   ]
  },
  {
   "attachments": {},
   "cell_type": "markdown",
   "metadata": {},
   "source": [
    "⚠️ **Note**\n",
    "Sampling data with SMOTE may result in longer training time \n",
    "(~ 20 mins for each selected model)\n",
    "\n",
    "To reduce the training time, please consider reducing the number\n",
    "of repetitions in CV (default `10`) by uncommenting the line below,\n",
    "or by simply setting a value to the `cv_n_reps` parameter in the\n",
    "`run_experiment` function."
   ]
  },
  {
   "cell_type": "code",
   "execution_count": 21,
   "metadata": {},
   "outputs": [
    {
     "name": "stdout",
     "output_type": "stream",
     "text": [
      "Training Decision Tree\n",
      "Params: {'model__max_depth': [None, 2, 3, 6], 'model__min_samples_leaf': [2, 5, 6], 'model__criterion': ['gini', 'entropy']}\n",
      "Pipeline: Pipeline(steps=[('preprocess',\n",
      "                 ColumnTransformer(remainder='passthrough',\n",
      "                                   transformers=[('scaler', RobustScaler(),\n",
      "                                                  ['Time', 'Amount'])])),\n",
      "                ('sampling',\n",
      "                 SMOTE(random_state=RandomState(MT19937) at 0x11F796940,\n",
      "                       sampling_strategy='minority')),\n",
      "                ('model',\n",
      "                 DecisionTreeClassifier(random_state=RandomState(MT19937) at 0x11F796940))])\n",
      "Best Params:  {'model__criterion': 'entropy', 'model__max_depth': None, 'model__min_samples_leaf': 2}\n",
      "Best CV Score (F1) 0.6193683359236203\n",
      "Elapsed Time to run 10x5CV: 0:21:23.565041\n",
      "Evaluate Decision Tree\n",
      "0.6135458167330677\n",
      "\n",
      "Training Random Forest\n",
      "Params: {'model__n_estimators': [50], 'model__max_features': ['log2', 'sqrt']}\n",
      "Pipeline: Pipeline(steps=[('preprocess',\n",
      "                 ColumnTransformer(remainder='passthrough',\n",
      "                                   transformers=[('scaler', RobustScaler(),\n",
      "                                                  ['Time', 'Amount'])])),\n",
      "                ('sampling',\n",
      "                 SMOTE(random_state=RandomState(MT19937) at 0x11F796940,\n",
      "                       sampling_strategy='minority')),\n",
      "                ('model',\n",
      "                 RandomForestClassifier(n_jobs=-1,\n",
      "                                        random_state=RandomState(MT19937) at 0x11F796940))])\n",
      "Best Params:  {'model__max_features': 'log2', 'model__n_estimators': 50}\n",
      "Best CV Score (F1) 0.8577412410574025\n",
      "Elapsed Time to run 10x5CV: 0:19:55.638130\n",
      "Evaluate Random Forest\n",
      "0.8196721311475409\n",
      "\n"
     ]
    }
   ],
   "source": [
    "run_experiment(name=\"Over Sampling SMOTE\",\n",
    "               model_configs=smote_run_config,\n",
    "               data=(X_train, X_test),\n",
    "               labels=(y_train, y_test),\n",
    "               preprocessing_steps=steps_over_sampling,\n",
    "            #    cv_n_reps=3, # see note\n",
    "               rng=rng)"
   ]
  },
  {
   "attachments": {},
   "cell_type": "markdown",
   "metadata": {},
   "source": [
    "---"
   ]
  }
 ],
 "metadata": {
  "kernelspec": {
   "display_name": "base",
   "language": "python",
   "name": "python3"
  },
  "language_info": {
   "codemirror_mode": {
    "name": "ipython",
    "version": 3
   },
   "file_extension": ".py",
   "mimetype": "text/x-python",
   "name": "python",
   "nbconvert_exporter": "python",
   "pygments_lexer": "ipython3",
   "version": "3.10.11"
  },
  "orig_nbformat": 4
 },
 "nbformat": 4,
 "nbformat_minor": 2
}
