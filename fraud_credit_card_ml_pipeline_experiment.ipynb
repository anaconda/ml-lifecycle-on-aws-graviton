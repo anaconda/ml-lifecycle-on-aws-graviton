{
 "cells": [
  {
   "attachments": {},
   "cell_type": "markdown",
   "metadata": {},
   "source": [
    "# Fraud Detection on Card Transaction Data"
   ]
  },
  {
   "attachments": {},
   "cell_type": "markdown",
   "metadata": {},
   "source": [
    "Machine Learning Experimental Setup"
   ]
  },
  {
   "attachments": {},
   "cell_type": "markdown",
   "metadata": {},
   "source": [
    "### Loading Data"
   ]
  },
  {
   "cell_type": "code",
   "execution_count": null,
   "metadata": {},
   "outputs": [],
   "source": [
    "import pandas as pd"
   ]
  },
  {
   "cell_type": "code",
   "execution_count": null,
   "metadata": {},
   "outputs": [],
   "source": [
    "filename = \"creditcard.csv\"\n",
    "df = pd.read_csv(filename)"
   ]
  },
  {
   "cell_type": "code",
   "execution_count": null,
   "metadata": {},
   "outputs": [],
   "source": [
    "df.head()"
   ]
  },
  {
   "cell_type": "code",
   "execution_count": null,
   "metadata": {},
   "outputs": [],
   "source": [
    "df.Class.value_counts()"
   ]
  },
  {
   "cell_type": "code",
   "execution_count": null,
   "metadata": {},
   "outputs": [],
   "source": [
    "X, y = df[df.columns[df.columns != \"Class\"]], df[\"Class\"]"
   ]
  },
  {
   "cell_type": "code",
   "execution_count": null,
   "metadata": {},
   "outputs": [],
   "source": [
    "X.shape, y.shape"
   ]
  },
  {
   "attachments": {},
   "cell_type": "markdown",
   "metadata": {},
   "source": [
    "## Experimental Pipeline"
   ]
  },
  {
   "cell_type": "code",
   "execution_count": null,
   "metadata": {},
   "outputs": [],
   "source": [
    "# Reproducibility settings\n",
    "import numpy as np\n",
    "from sklearn.utils import check_random_state\n",
    "\n",
    "SEED = 12345\n",
    "\n",
    "# The NumPy Generator will be used throughout the whole experiment\n",
    "# rng = np.random.default_rng(SEED)\n",
    "np.random.seed(SEED)\n",
    "rng = check_random_state(SEED)"
   ]
  },
  {
   "cell_type": "code",
   "execution_count": null,
   "metadata": {},
   "outputs": [],
   "source": [
    "import os\n",
    "os.environ[\"PYTHONWARNINGS\"] = \"ignore\"\n",
    "import warnings\n",
    "warnings.filterwarnings('ignore')\n",
    "from pathlib import Path\n",
    "from datetime import datetime\n",
    "\n",
    "# Preprocessing\n",
    "from sklearn.preprocessing import RobustScaler\n",
    "from sklearn.compose import ColumnTransformer\n",
    "\n",
    "# Imbalanced Learning\n",
    "from imblearn.over_sampling import SMOTE\n",
    "from imblearn.under_sampling import NearMiss\n",
    "\n",
    "# Model Selection and Metrics\n",
    "from sklearn.model_selection import RepeatedStratifiedKFold, train_test_split\n",
    "from sklearn.model_selection import GridSearchCV\n",
    "from sklearn.metrics import f1_score\n",
    "\n",
    "# ML Models\n",
    "from sklearn.tree import DecisionTreeClassifier\n",
    "from sklearn.ensemble import RandomForestClassifier\n",
    "\n",
    "# Pipeline \n",
    "# (imblearn Pipeline because we need to embed a sampler)\n",
    "from imblearn.pipeline import Pipeline\n",
    "\n",
    "# Model Persistence\n",
    "from joblib import dump"
   ]
  },
  {
   "attachments": {},
   "cell_type": "markdown",
   "metadata": {},
   "source": [
    "**Data Splitting**"
   ]
  },
  {
   "cell_type": "code",
   "execution_count": null,
   "metadata": {},
   "outputs": [],
   "source": [
    "X_train, X_test, y_train, y_test = train_test_split(X, y, stratify=y, test_size=0.2, \n",
    "                                                    random_state=rng)"
   ]
  },
  {
   "attachments": {},
   "cell_type": "markdown",
   "metadata": {},
   "source": [
    "**PreProcessing**"
   ]
  },
  {
   "cell_type": "code",
   "execution_count": null,
   "metadata": {},
   "outputs": [],
   "source": [
    "# (Selected) Feature Scaling\n",
    "preprocessing = ColumnTransformer([(\"scaler\", RobustScaler(), [\"Time\", \"Amount\"]),],\n",
    "                                  remainder=\"passthrough\")"
   ]
  },
  {
   "attachments": {},
   "cell_type": "markdown",
   "metadata": {},
   "source": [
    "### Machine Learning Models\n",
    "\n",
    "Setting up Machine Learning models and their corresponding param grid (for Hyper parameter tuning)"
   ]
  },
  {
   "cell_type": "code",
   "execution_count": null,
   "metadata": {},
   "outputs": [],
   "source": [
    "# Decision Tree\n",
    "dt = DecisionTreeClassifier(random_state=rng)\n",
    "tree_models_params = {\n",
    "    \"model__max_depth\": [None, 2, 3, 6],\n",
    "    \"model__min_samples_leaf\": [2, 5, 6],\n",
    "    \"model__criterion\": [\"gini\", \"entropy\"]\n",
    "}\n",
    "\n",
    "dt_params = tree_models_params"
   ]
  },
  {
   "cell_type": "code",
   "execution_count": null,
   "metadata": {},
   "outputs": [],
   "source": [
    "# Random Forest\n",
    "rf = RandomForestClassifier(random_state=rng, n_jobs=-1)\n",
    "rf_params = {\n",
    "    \"model__n_estimators\": [50,],\n",
    "    \"model__max_features\": [\"log2\", \"sqrt\"],\n",
    "    }\n",
    "rf_params_full = tree_models_params | tree_models_params"
   ]
  },
  {
   "attachments": {},
   "cell_type": "markdown",
   "metadata": {},
   "source": [
    "(CV) Training and Evaluation Utility Functions"
   ]
  },
  {
   "cell_type": "code",
   "execution_count": null,
   "metadata": {},
   "outputs": [],
   "source": [
    "# Inspired from https://stackoverflow.com/questions/54868698/what-type-is-a-sklearn-model\n",
    "\n",
    "from typing import Protocol, Any\n",
    "from numpy.typing import ArrayLike\n",
    "\n",
    "class Estimator(Protocol):\n",
    "    def fit(self, X, y, sample_weight=None): ...\n",
    "    def predict(self, X): ...\n",
    "    def score(self, X, y, sample_weight=None): ...\n",
    "    def set_params(self, **params): ...\n",
    "\n",
    "ModelInfo = tuple[str, Estimator, dict[str, list[Any]]]\n",
    "PipelineSteps = list[tuple[str, Estimator]]\n",
    "Params = dict[str, Any]\n",
    "Partition = tuple[ArrayLike, ArrayLike]"
   ]
  },
  {
   "cell_type": "code",
   "execution_count": null,
   "metadata": {},
   "outputs": [],
   "source": [
    "def train(model_info: ModelInfo, preprocessing_steps: PipelineSteps,\n",
    "          X_train: ArrayLike, y_train: ArrayLike, *,\n",
    "          preprocessing_params: Params = None, \n",
    "          rng: np.random.RandomState = None,\n",
    "          cv_n_reps: int = 10, cv_n_splits: int = 5,\n",
    "          verbose: bool = True) -> Estimator:\n",
    "    \"\"\"Train a given model (with Hyper Parameter Tuning) within a Repeated Stratified 10x5CV\"\"\"\n",
    "\n",
    "    model_name, model, model_params = model_info\n",
    "    pipeline = Pipeline(preprocessing_steps + [(\"model\", model)])\n",
    "\n",
    "    if preprocessing_params is not None:\n",
    "        pipeline_params = preprocessing_params | model_params\n",
    "    else:\n",
    "        pipeline_params = model_params\n",
    "\n",
    "    print(f\"Training {model_name}\")\n",
    "    if verbose:\n",
    "        print(f\"Params: {pipeline_params}\")\n",
    "        print(f\"Pipeline: {pipeline}\")\n",
    "\n",
    "    gs = GridSearchCV(estimator=pipeline, param_grid=pipeline_params, n_jobs=-1,\n",
    "                      scoring=\"f1\", cv=RepeatedStratifiedKFold(n_repeats=cv_n_reps,\n",
    "                                                               n_splits=cv_n_splits, \n",
    "                                                               random_state=rng))\n",
    "    gs.fit(X_train, y_train)\n",
    "    if verbose:\n",
    "        print(\"Best Params: \", gs.best_params_)\n",
    "        print(\"Best CV Score (F1)\", gs.best_score_)\n",
    "\n",
    "    return gs\n",
    "\n",
    "\n",
    "def evaluate(model_name: str, model: Estimator, X_test: ArrayLike , y_test: ArrayLike) -> float:\n",
    "    print(f\"Evaluate {model_name}\")\n",
    "    y_pred = model.predict(X_test)\n",
    "    return f1_score(y_test, y_pred)\n"
   ]
  },
  {
   "cell_type": "code",
   "execution_count": null,
   "metadata": {},
   "outputs": [],
   "source": [
    "MODEL_FOLDER = Path(os.path.abspath(os.path.curdir)) / \"models\"\n",
    "os.makedirs(MODEL_FOLDER, exist_ok=True)\n",
    "\n",
    "def run_experiment(name: str, model_configs: list[ModelInfo],\n",
    "                   data: Partition, labels: Partition,\n",
    "                   preprocessing_steps: PipelineSteps,\n",
    "                   *,\n",
    "                   cv_n_reps: int = 10, cv_n_splits: int = 5,\n",
    "                   preproc_hyper_params: Params = None,\n",
    "                   rng: np.random.RandomState = None,\n",
    "                   ):\n",
    "    \"\"\"\n",
    "    Run the full experiment on selected models (and Params),\n",
    "    calling train and evaluate, in turn.\n",
    "    \"\"\"\n",
    "    X_train, X_test = data\n",
    "    y_train, y_test = labels\n",
    "    exp_label = name.lower().strip().replace(\" \", \"_\")\n",
    "\n",
    "    for model_info in model_configs:\n",
    "        start = datetime.now()\n",
    "        gs_model = train(model_info=model_info,\n",
    "                        preprocessing_steps=preprocessing_steps,\n",
    "                        preprocessing_params=preproc_hyper_params,\n",
    "                        X_train=X_train, y_train=y_train,\n",
    "                        cv_n_reps=cv_n_reps, cv_n_splits=cv_n_splits,\n",
    "                        rng=rng, verbose=True)\n",
    "        elapsed = datetime.now() - start\n",
    "        print(f\"Elapsed Time to run {cv_n_reps}x{cv_n_splits}CV: {elapsed}\")\n",
    "        best_model = gs_model.best_estimator_\n",
    "        model_name, *_ = model_info\n",
    "        print(evaluate(model_name=model_name, model=best_model,\n",
    "                    X_test=X_test, y_test=y_test))\n",
    "        model_filename = f\"gs_{model_name.lower().replace(' ', '_')}_{exp_label}.joblib\"\n",
    "        model_filepath = MODEL_FOLDER / model_filename\n",
    "        dump(gs_model, model_filepath)\n",
    "        print(\"\")  # Empty line, mostly for clean report"
   ]
  },
  {
   "attachments": {},
   "cell_type": "markdown",
   "metadata": {},
   "source": [
    "#### 1. Near-Miss (Under) Sampling Strategy"
   ]
  },
  {
   "cell_type": "code",
   "execution_count": null,
   "metadata": {},
   "outputs": [],
   "source": [
    "nm_run_config = [\n",
    "        (\"Decision Tree\", dt, dt_params),\n",
    "        (\"Random Forest\", rf, rf_params_full),\n",
    "    ]"
   ]
  },
  {
   "cell_type": "code",
   "execution_count": null,
   "metadata": {},
   "outputs": [],
   "source": [
    "# Under Sampling Strategy\n",
    "nm = NearMiss(sampling_strategy=\"majority\", version=3)\n",
    "# NearMiss Param Grid\n",
    "nm_params = {\"sampling__n_neighbors_ver3\" : [4, 5]}\n",
    "\n",
    "steps_under_sampling = [(\"preprocess\", preprocessing), (\"sampling\", nm)]"
   ]
  },
  {
   "cell_type": "code",
   "execution_count": null,
   "metadata": {},
   "outputs": [],
   "source": [
    "run_experiment(name=\"Under Sampling Near Miss\",\n",
    "               model_configs=nm_run_config, data=(X_train, X_test),\n",
    "               labels=(y_train, y_test),\n",
    "               preprocessing_steps=steps_under_sampling,\n",
    "               preproc_hyper_params=nm_params,\n",
    "               rng=rng)"
   ]
  },
  {
   "attachments": {},
   "cell_type": "markdown",
   "metadata": {},
   "source": [
    "---"
   ]
  },
  {
   "attachments": {},
   "cell_type": "markdown",
   "metadata": {},
   "source": [
    "#### 2. SMOTE (Over) Sampling Strategy"
   ]
  },
  {
   "cell_type": "code",
   "execution_count": null,
   "metadata": {},
   "outputs": [],
   "source": [
    "smote_run_config = [\n",
    "        (\"Decision Tree\", dt, dt_params),\n",
    "        (\"Random Forest\", rf, rf_params),  # only RF specific params tuned\n",
    "    ]"
   ]
  },
  {
   "cell_type": "code",
   "execution_count": null,
   "metadata": {},
   "outputs": [],
   "source": [
    "# Over Sampling Strategies\n",
    "smote = SMOTE(sampling_strategy=\"minority\", random_state=rng)\n",
    "\n",
    "steps_over_sampling = [(\"preprocess\", preprocessing), (\"sampling\", smote)]"
   ]
  },
  {
   "attachments": {},
   "cell_type": "markdown",
   "metadata": {},
   "source": [
    "⚠️ **Note**\n",
    "\n",
    "Sampling data with SMOTE may result in longer training time -\n",
    "~20 mins for each selected model - within a 10x5CV training\n",
    "schema (default).\n",
    "\n",
    "To reduce the training time, please consider reducing the number\n",
    "of repetitions in CV by setting a value to the `cv_n_reps` parameter\n",
    "in the `run_experiment` function."
   ]
  },
  {
   "cell_type": "code",
   "execution_count": null,
   "metadata": {},
   "outputs": [],
   "source": [
    "run_experiment(name=\"Over Sampling SMOTE\",\n",
    "               model_configs=smote_run_config,\n",
    "               data=(X_train, X_test),\n",
    "               labels=(y_train, y_test),\n",
    "               preprocessing_steps=steps_over_sampling,\n",
    "            #    cv_n_reps=3, # see note\n",
    "               rng=rng)"
   ]
  },
  {
   "attachments": {},
   "cell_type": "markdown",
   "metadata": {},
   "source": [
    "---"
   ]
  }
 ],
 "metadata": {
  "kernelspec": {
   "display_name": "base",
   "language": "python",
   "name": "python3"
  },
  "language_info": {
   "codemirror_mode": {
    "name": "ipython",
    "version": 3
   },
   "file_extension": ".py",
   "mimetype": "text/x-python",
   "name": "python",
   "nbconvert_exporter": "python",
   "pygments_lexer": "ipython3",
   "version": "3.10.11"
  },
  "orig_nbformat": 4
 },
 "nbformat": 4,
 "nbformat_minor": 2
}
